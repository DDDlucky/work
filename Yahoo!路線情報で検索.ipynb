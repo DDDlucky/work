{
 "cells": [
  {
   "cell_type": "markdown",
   "metadata": {},
   "source": [
    "# 池袋駅から神田駅までの路線情報を検索してみましょう。\n",
    "https://transit.yahoo.co.jp/"
   ]
  },
  {
   "cell_type": "code",
   "execution_count": 7,
   "metadata": {},
   "outputs": [],
   "source": [
    "url = 'https://transit.yahoo.co.jp/search/result?flatlon=&from={}&tlatlon=&to={}&viacode=&via=&viacode=&via=&viacode=&via=&y=2019&m=02&d=25&hh=22&m2=5&m1=1&type=1&ticket=ic&expkind=1&ws=3&s=0&al=1&hb=1&lb=1&sr=1&kw=%E7%A5%9E%E7%94%B0'.format('池袋','神田')"
   ]
  },
  {
   "cell_type": "code",
   "execution_count": 8,
   "metadata": {},
   "outputs": [
    {
     "data": {
      "text/plain": [
       "'https://transit.yahoo.co.jp/search/result?flatlon=&from=池袋&tlatlon=&to=神田&viacode=&via=&viacode=&via=&viacode=&via=&y=2019&m=02&d=25&hh=22&m2=5&m1=1&type=1&ticket=ic&expkind=1&ws=3&s=0&al=1&hb=1&lb=1&sr=1&kw=%E7%A5%9E%E7%94%B0'"
      ]
     },
     "execution_count": 8,
     "metadata": {},
     "output_type": "execute_result"
    }
   ],
   "source": [
    "url"
   ]
  },
  {
   "cell_type": "code",
   "execution_count": 9,
   "metadata": {},
   "outputs": [],
   "source": [
    "from selenium import webdriver\n",
    "browser = webdriver.Chrome()\n",
    "browser.get(url)"
   ]
  },
  {
   "cell_type": "code",
   "execution_count": null,
   "metadata": {},
   "outputs": [],
   "source": []
  }
 ],
 "metadata": {
  "kernelspec": {
   "display_name": "Python 3",
   "language": "python",
   "name": "python3"
  },
  "language_info": {
   "codemirror_mode": {
    "name": "ipython",
    "version": 3
   },
   "file_extension": ".py",
   "mimetype": "text/x-python",
   "name": "python",
   "nbconvert_exporter": "python",
   "pygments_lexer": "ipython3",
   "version": "3.7.0"
  }
 },
 "nbformat": 4,
 "nbformat_minor": 2
}
